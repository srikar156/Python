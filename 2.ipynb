{
 "cells": [
  {
   "cell_type": "markdown",
   "metadata": {},
   "source": [
    "## Import all the libraries here"
   ]
  },
  {
   "cell_type": "code",
   "execution_count": 128,
   "metadata": {},
   "outputs": [],
   "source": [
    "import json\n",
    "import jsonlines\n",
    "import pandas as pd\n",
    "import numpy as np\n",
    "import warnings\n",
    "warnings.filterwarnings(\"ignore\")"
   ]
  },
  {
   "cell_type": "markdown",
   "metadata": {},
   "source": [
    "#### Load the Data here"
   ]
  },
  {
   "cell_type": "code",
   "execution_count": 118,
   "metadata": {},
   "outputs": [],
   "source": [
    "sample_dict = dict.fromkeys(['plant','technology','linename', 'lineid', 'lineproperties', 'plcno','componentid','variable','value','q','t'])\n",
    "df  = pd.DataFrame([sample_dict], columns=sample_dict.keys())"
   ]
  },
  {
   "cell_type": "code",
   "execution_count": 119,
   "metadata": {},
   "outputs": [
    {
     "data": {
      "text/html": [
       "<div>\n",
       "<style scoped>\n",
       "    .dataframe tbody tr th:only-of-type {\n",
       "        vertical-align: middle;\n",
       "    }\n",
       "\n",
       "    .dataframe tbody tr th {\n",
       "        vertical-align: top;\n",
       "    }\n",
       "\n",
       "    .dataframe thead th {\n",
       "        text-align: right;\n",
       "    }\n",
       "</style>\n",
       "<table border=\"1\" class=\"dataframe\">\n",
       "  <thead>\n",
       "    <tr style=\"text-align: right;\">\n",
       "      <th></th>\n",
       "      <th>plant</th>\n",
       "      <th>technology</th>\n",
       "      <th>linename</th>\n",
       "      <th>lineid</th>\n",
       "      <th>lineproperties</th>\n",
       "      <th>plcno</th>\n",
       "      <th>componentid</th>\n",
       "      <th>variable</th>\n",
       "      <th>value</th>\n",
       "      <th>q</th>\n",
       "      <th>t</th>\n",
       "    </tr>\n",
       "  </thead>\n",
       "  <tbody>\n",
       "    <tr>\n",
       "      <th>0</th>\n",
       "      <td>None</td>\n",
       "      <td>None</td>\n",
       "      <td>None</td>\n",
       "      <td>None</td>\n",
       "      <td>None</td>\n",
       "      <td>None</td>\n",
       "      <td>None</td>\n",
       "      <td>None</td>\n",
       "      <td>None</td>\n",
       "      <td>None</td>\n",
       "      <td>None</td>\n",
       "    </tr>\n",
       "  </tbody>\n",
       "</table>\n",
       "</div>"
      ],
      "text/plain": [
       "  plant technology linename lineid lineproperties plcno componentid variable  \\\n",
       "0  None       None     None   None           None  None        None     None   \n",
       "\n",
       "  value     q     t  \n",
       "0  None  None  None  "
      ]
     },
     "execution_count": 119,
     "metadata": {},
     "output_type": "execute_result"
    }
   ],
   "source": [
    "df"
   ]
  },
  {
   "cell_type": "code",
   "execution_count": 120,
   "metadata": {},
   "outputs": [],
   "source": [
    "with jsonlines.open('Self1.json') as reader:\n",
    "    for obj in reader:\n",
    "        empty_dict = dict.fromkeys(['plant','technology','linename', 'lineid', 'lineproperties', 'plcno','componentid','variable','value','q','t'])\n",
    "        \n",
    "        empty_dict['plant'] = 'W9'\n",
    "        empty_dict['technology'] = (obj[\"data\"][\"id\"][15])\n",
    "        empty_dict['linename'] = (obj[\"data\"][\"id\"][16:18])\n",
    "        empty_dict['lineid'] = (obj[\"data\"][\"id\"][18])\n",
    "        empty_dict['lineproperties'] = (obj[\"data\"][\"id\"][19:21])\n",
    "        empty_dict['plcno'] = (obj[\"data\"][\"id\"][21:23])\n",
    "        empty_dict['componentid'] = (obj[\"data\"][\"id\"][24:29])\n",
    "        empty_dict['variable'] = (obj[\"data\"][\"id\"][41:])\n",
    "        empty_dict['value'] = (obj[\"data\"][\"Value\"])\n",
    "        empty_dict['q'] = (obj[\"data\"][\"q\"])\n",
    "        empty_dict['t'] = (obj[\"data\"][\"t\"])\n",
    "        \n",
    "        df = df.append(empty_dict, ignore_index=True)\n",
    "        "
   ]
  },
  {
   "cell_type": "code",
   "execution_count": 121,
   "metadata": {},
   "outputs": [],
   "source": [
    "finalData = df.iloc[1:]"
   ]
  },
  {
   "cell_type": "code",
   "execution_count": 122,
   "metadata": {},
   "outputs": [
    {
     "data": {
      "text/html": [
       "<div>\n",
       "<style scoped>\n",
       "    .dataframe tbody tr th:only-of-type {\n",
       "        vertical-align: middle;\n",
       "    }\n",
       "\n",
       "    .dataframe tbody tr th {\n",
       "        vertical-align: top;\n",
       "    }\n",
       "\n",
       "    .dataframe thead th {\n",
       "        text-align: right;\n",
       "    }\n",
       "</style>\n",
       "<table border=\"1\" class=\"dataframe\">\n",
       "  <thead>\n",
       "    <tr style=\"text-align: right;\">\n",
       "      <th></th>\n",
       "      <th>plant</th>\n",
       "      <th>technology</th>\n",
       "      <th>linename</th>\n",
       "      <th>lineid</th>\n",
       "      <th>lineproperties</th>\n",
       "      <th>plcno</th>\n",
       "      <th>componentid</th>\n",
       "      <th>variable</th>\n",
       "      <th>value</th>\n",
       "      <th>q</th>\n",
       "      <th>t</th>\n",
       "    </tr>\n",
       "  </thead>\n",
       "  <tbody>\n",
       "    <tr>\n",
       "      <th>1</th>\n",
       "      <td>W9</td>\n",
       "      <td>3</td>\n",
       "      <td>VB</td>\n",
       "      <td>5</td>\n",
       "      <td>MB</td>\n",
       "      <td>03</td>\n",
       "      <td>40R01</td>\n",
       "      <td>CALCAMOUNT_CCM</td>\n",
       "      <td>7.992154</td>\n",
       "      <td>1</td>\n",
       "      <td>1526256014055</td>\n",
       "    </tr>\n",
       "    <tr>\n",
       "      <th>2</th>\n",
       "      <td>W9</td>\n",
       "      <td>3</td>\n",
       "      <td>VB</td>\n",
       "      <td>5</td>\n",
       "      <td>MB</td>\n",
       "      <td>03</td>\n",
       "      <td>40R01</td>\n",
       "      <td>DEVIATION_PERC</td>\n",
       "      <td>-1.413895</td>\n",
       "      <td>1</td>\n",
       "      <td>1526256014055</td>\n",
       "    </tr>\n",
       "    <tr>\n",
       "      <th>3</th>\n",
       "      <td>W9</td>\n",
       "      <td>3</td>\n",
       "      <td>VB</td>\n",
       "      <td>5</td>\n",
       "      <td>MB</td>\n",
       "      <td>03</td>\n",
       "      <td>40R01</td>\n",
       "      <td>SECOND</td>\n",
       "      <td>13.000000</td>\n",
       "      <td>1</td>\n",
       "      <td>1526256014056</td>\n",
       "    </tr>\n",
       "    <tr>\n",
       "      <th>4</th>\n",
       "      <td>W9</td>\n",
       "      <td>3</td>\n",
       "      <td>VB</td>\n",
       "      <td>5</td>\n",
       "      <td>MB</td>\n",
       "      <td>03</td>\n",
       "      <td>40R01</td>\n",
       "      <td>ACTAMOUNT_CMM</td>\n",
       "      <td>8.034767</td>\n",
       "      <td>1</td>\n",
       "      <td>1526256014055</td>\n",
       "    </tr>\n",
       "    <tr>\n",
       "      <th>5</th>\n",
       "      <td>W9</td>\n",
       "      <td>3</td>\n",
       "      <td>VB</td>\n",
       "      <td>5</td>\n",
       "      <td>MB</td>\n",
       "      <td>03</td>\n",
       "      <td>40R01</td>\n",
       "      <td>MINUTE</td>\n",
       "      <td>0.000000</td>\n",
       "      <td>1</td>\n",
       "      <td>1526256014056</td>\n",
       "    </tr>\n",
       "  </tbody>\n",
       "</table>\n",
       "</div>"
      ],
      "text/plain": [
       "  plant technology linename lineid lineproperties plcno componentid  \\\n",
       "1    W9          3       VB      5             MB    03       40R01   \n",
       "2    W9          3       VB      5             MB    03       40R01   \n",
       "3    W9          3       VB      5             MB    03       40R01   \n",
       "4    W9          3       VB      5             MB    03       40R01   \n",
       "5    W9          3       VB      5             MB    03       40R01   \n",
       "\n",
       "         variable      value  q              t  \n",
       "1  CALCAMOUNT_CCM   7.992154  1  1526256014055  \n",
       "2  DEVIATION_PERC  -1.413895  1  1526256014055  \n",
       "3          SECOND  13.000000  1  1526256014056  \n",
       "4   ACTAMOUNT_CMM   8.034767  1  1526256014055  \n",
       "5          MINUTE   0.000000  1  1526256014056  "
      ]
     },
     "execution_count": 122,
     "metadata": {},
     "output_type": "execute_result"
    }
   ],
   "source": [
    "finalData.head()"
   ]
  },
  {
   "cell_type": "code",
   "execution_count": 126,
   "metadata": {},
   "outputs": [
    {
     "data": {
      "text/plain": [
       "(7291, 12)"
      ]
     },
     "execution_count": 126,
     "metadata": {},
     "output_type": "execute_result"
    }
   ],
   "source": [
    "finalData.shape"
   ]
  },
  {
   "cell_type": "code",
   "execution_count": 130,
   "metadata": {},
   "outputs": [],
   "source": [
    "finalData['device_number'] = finalData['technology'] + finalData['linename'] + finalData['lineid'] + finalData['lineproperties'] + finalData['plcno'] + finalData['componentid']\n",
    "\n"
   ]
  },
  {
   "cell_type": "code",
   "execution_count": 131,
   "metadata": {},
   "outputs": [
    {
     "data": {
      "text/html": [
       "<div>\n",
       "<style scoped>\n",
       "    .dataframe tbody tr th:only-of-type {\n",
       "        vertical-align: middle;\n",
       "    }\n",
       "\n",
       "    .dataframe tbody tr th {\n",
       "        vertical-align: top;\n",
       "    }\n",
       "\n",
       "    .dataframe thead th {\n",
       "        text-align: right;\n",
       "    }\n",
       "</style>\n",
       "<table border=\"1\" class=\"dataframe\">\n",
       "  <thead>\n",
       "    <tr style=\"text-align: right;\">\n",
       "      <th></th>\n",
       "      <th>plant</th>\n",
       "      <th>technology</th>\n",
       "      <th>linename</th>\n",
       "      <th>lineid</th>\n",
       "      <th>lineproperties</th>\n",
       "      <th>plcno</th>\n",
       "      <th>componentid</th>\n",
       "      <th>variable</th>\n",
       "      <th>value</th>\n",
       "      <th>q</th>\n",
       "      <th>t</th>\n",
       "      <th>device_number</th>\n",
       "    </tr>\n",
       "  </thead>\n",
       "  <tbody>\n",
       "    <tr>\n",
       "      <th>1</th>\n",
       "      <td>W9</td>\n",
       "      <td>3</td>\n",
       "      <td>VB</td>\n",
       "      <td>5</td>\n",
       "      <td>MB</td>\n",
       "      <td>03</td>\n",
       "      <td>40R01</td>\n",
       "      <td>CALCAMOUNT_CCM</td>\n",
       "      <td>7.992154</td>\n",
       "      <td>1</td>\n",
       "      <td>1526256014055</td>\n",
       "      <td>3VB5MB0340R01</td>\n",
       "    </tr>\n",
       "    <tr>\n",
       "      <th>2</th>\n",
       "      <td>W9</td>\n",
       "      <td>3</td>\n",
       "      <td>VB</td>\n",
       "      <td>5</td>\n",
       "      <td>MB</td>\n",
       "      <td>03</td>\n",
       "      <td>40R01</td>\n",
       "      <td>DEVIATION_PERC</td>\n",
       "      <td>-1.413895</td>\n",
       "      <td>1</td>\n",
       "      <td>1526256014055</td>\n",
       "      <td>3VB5MB0340R01</td>\n",
       "    </tr>\n",
       "    <tr>\n",
       "      <th>3</th>\n",
       "      <td>W9</td>\n",
       "      <td>3</td>\n",
       "      <td>VB</td>\n",
       "      <td>5</td>\n",
       "      <td>MB</td>\n",
       "      <td>03</td>\n",
       "      <td>40R01</td>\n",
       "      <td>SECOND</td>\n",
       "      <td>13.000000</td>\n",
       "      <td>1</td>\n",
       "      <td>1526256014056</td>\n",
       "      <td>3VB5MB0340R01</td>\n",
       "    </tr>\n",
       "    <tr>\n",
       "      <th>4</th>\n",
       "      <td>W9</td>\n",
       "      <td>3</td>\n",
       "      <td>VB</td>\n",
       "      <td>5</td>\n",
       "      <td>MB</td>\n",
       "      <td>03</td>\n",
       "      <td>40R01</td>\n",
       "      <td>ACTAMOUNT_CMM</td>\n",
       "      <td>8.034767</td>\n",
       "      <td>1</td>\n",
       "      <td>1526256014055</td>\n",
       "      <td>3VB5MB0340R01</td>\n",
       "    </tr>\n",
       "    <tr>\n",
       "      <th>5</th>\n",
       "      <td>W9</td>\n",
       "      <td>3</td>\n",
       "      <td>VB</td>\n",
       "      <td>5</td>\n",
       "      <td>MB</td>\n",
       "      <td>03</td>\n",
       "      <td>40R01</td>\n",
       "      <td>MINUTE</td>\n",
       "      <td>0.000000</td>\n",
       "      <td>1</td>\n",
       "      <td>1526256014056</td>\n",
       "      <td>3VB5MB0340R01</td>\n",
       "    </tr>\n",
       "  </tbody>\n",
       "</table>\n",
       "</div>"
      ],
      "text/plain": [
       "  plant technology linename lineid lineproperties plcno componentid  \\\n",
       "1    W9          3       VB      5             MB    03       40R01   \n",
       "2    W9          3       VB      5             MB    03       40R01   \n",
       "3    W9          3       VB      5             MB    03       40R01   \n",
       "4    W9          3       VB      5             MB    03       40R01   \n",
       "5    W9          3       VB      5             MB    03       40R01   \n",
       "\n",
       "         variable      value  q              t  device_number  \n",
       "1  CALCAMOUNT_CCM   7.992154  1  1526256014055  3VB5MB0340R01  \n",
       "2  DEVIATION_PERC  -1.413895  1  1526256014055  3VB5MB0340R01  \n",
       "3          SECOND  13.000000  1  1526256014056  3VB5MB0340R01  \n",
       "4   ACTAMOUNT_CMM   8.034767  1  1526256014055  3VB5MB0340R01  \n",
       "5          MINUTE   0.000000  1  1526256014056  3VB5MB0340R01  "
      ]
     },
     "execution_count": 131,
     "metadata": {},
     "output_type": "execute_result"
    }
   ],
   "source": [
    "finalData.head()"
   ]
  },
  {
   "cell_type": "code",
   "execution_count": 132,
   "metadata": {},
   "outputs": [],
   "source": [
    "# Write the final data here\n",
    "finalData.to_csv('FinalData.csv')"
   ]
  }
 ],
 "metadata": {
  "kernelspec": {
   "display_name": "Python 3",
   "language": "python",
   "name": "python3"
  },
  "language_info": {
   "codemirror_mode": {
    "name": "ipython",
    "version": 3
   },
   "file_extension": ".py",
   "mimetype": "text/x-python",
   "name": "python",
   "nbconvert_exporter": "python",
   "pygments_lexer": "ipython3",
   "version": "3.6.4"
  }
 },
 "nbformat": 4,
 "nbformat_minor": 2
}
