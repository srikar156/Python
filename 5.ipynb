{
 "cells": [
  {
   "cell_type": "markdown",
   "metadata": {},
   "source": [
    "# Natural Language Engineering Resit\n",
    "\n",
    "\n",
    "## Important Information\n",
    "\n",
    "**Submission format:**  \n",
    "You should submit just one file which should either be a Jupyter notebook, or a Jupyter notebook that has been zipped up with any files that it loads (e.g. images). \n",
    "\n",
    "**Due date:**  \n",
    "Your notebook should be submitted on Study Direct before 4pm on Monday, 20 August 2018. \n",
    "\n",
    "**Word limit:**  \n",
    "Your Jupyter notebook should contain no more than 3000 words. The standard penalties apply for deviations from this limit (see below). You *must* specify the number of words in your report.\n",
    "\n",
    "### Failure to observe limits of length\n",
    "\n",
    "The following is taken from the Examination and Assessment Regulations Handbook \n",
    "\n",
    ">The maximum length for each assessment is publicised to students. The limits as stated include quotations in the text, but do not include the bibliography, footnotes/endnotes, appendices, abstracts, maps, illustrations, transcriptions of linguistic data, or tabulations of numerical or linguistic data and their captions. Any excess in length should not confer an advantage over other students who have adhered to the guidance. Students are requested to state the word count on submission. Where a student has marginally (within 10%) exceeded the word length the Marker should penalise the work where the student would gain an unfair advantage by exceeding the word limit. In excessive cases (>10%) the Marker need only consider work up to the designated word count, and discount any excessive word length beyond that to ensure equity across the cohort. Where an assessment is submitted and falls significantly short (>10%) of the word length, the Marker must consider in assigning a mark, if the argument has been sufficiently developed and is sufficiently supported and not assign the full marks allocation where this is not the case.\n",
    "\n",
    "Note that code and the content of cell outputs and examples of data are excluded from the word count.\n",
    "\n",
    "---\n"
   ]
  },
  {
   "cell_type": "markdown",
   "metadata": {},
   "source": [
    "## Overview\n",
    "\n",
    "You should write a report consisting of a Jupyter notebook containing the following four sections (further details regarding the content of each section are given below).\n",
    "\n",
    "**Section 1**:  \n",
    "A report on an assessment of the accuracy of spaCy's entity extraction capability on a personalised sample of sentences. \n",
    "\n",
    "**Section 2**:  \n",
    "A report on a gender classifier.\n",
    "\n",
    "**Section 3**:  \n",
    "A report on your code that extracted feature sets for the characters in a novel.\n",
    "\n",
    "**Section 4**:  \n",
    "A report on your investigation into differences in the way male and female characters are portrayed.\n",
    "\n",
    "---"
   ]
  },
  {
   "cell_type": "markdown",
   "metadata": {},
   "source": [
    "## Details of Requirements\n",
    "\n",
    "Your submission will be marked out of 100. Please read the following guidelines carefully.\n"
   ]
  },
  {
   "cell_type": "markdown",
   "metadata": {},
   "source": [
    "## Section 1: Assessing spaCy's Entity Extraction Capactiy\n",
    "\n",
    "There are 20 marks available for this section.\n",
    "\n",
    "- You should run the entity extractor on a sample of 100 sentences and report on how accurately it has been performed. \n",
    "- **The sample you use must be produced using double your candidate number  to generate a personalised set of sentences for this evaluation.** In other words, you should multiply your candidate number by 2 and use that as the seed.\n",
    "- You do not need to describe your assessement of each sentence individually, but you should give overall statistics and use illustative examples from your sample.\n",
    "- Your analysis should be broken down by the type of named entity. \n",
    "- When an error occurs you should describe the nature of the error. You should distinguish the following cases\n",
    " - where the wrong entity type is assigned to a span\n",
    " - where the wrong span is identified\n",
    " - where an entity is missed altogether\n",
    "- A confusion matrix should be used here to summarise what you have found.\n",
    "\n",
    "---"
   ]
  },
  {
   "cell_type": "markdown",
   "metadata": {},
   "source": [
    "## Section 2: Gender Classifier\n",
    "\n",
    "There are 20 marks available for this section. \n",
    "\n",
    "- You should present the code of your gender classifier and explain how it works.\n",
    "- You should use the names.csv data or, if you prefer, some other comparable source of information about the gender of names.\n",
    "- Your code should deal with cases where a character is referred to by more than just their first name (e.g. \"John Jones\").\n",
    "- Your code should deal with cases where a character is referred to using a title (e.g. Mrs Smith\").\n",
    "- By running your gender classifier on a sample of data and reviewing the results, provide an indication of how accurate your gender classifier is. What proportion of names are being correctly analysed?\n",
    "- Based on your analysis of a sample of names provide a confusion matrix summarising what you have found.\n",
    "---"
   ]
  },
  {
   "cell_type": "markdown",
   "metadata": {},
   "source": [
    "## Section 3: Building feature sets that characterise the way a character is portrayed\n",
    "\n",
    "There are 30 marks available for this section. \n",
    "\n",
    "- You should explore a number of alternative ways of characterising the way a person in portrayed by a novelist. This should include implementing the suggestions that appear in the Topic 8 notebook. You are encouraged to go beyond the suggestions made in the Topic 7 notebook.\n",
    "- You should describe the code that you have written to create feature sets for characters.\n",
    "- You should describe the code that showned how you were able to extract features in situations where one of the pronouns \"he\", \"she\", \"his\" and \"her\" is used in a novel."
   ]
  },
  {
   "cell_type": "markdown",
   "metadata": {},
   "source": [
    "## Section 4: Investigating differences in the way genders are portrayed\n",
    "\n",
    "There are 30 marks available for this section.\n",
    "\n",
    "- Choose two different novelists and build two document collections one for each of the novelists.\n",
    "- Aggregated feature sets across the male and female characters appearing in the two collection of novels. \n",
    "- Discuss the result of measuring the cosine similarity of the aggregated male an female feature sets. The reason to consider different sets of novels is to look at differences in gender-based cosine similarity in the different collections.\n",
    "- In Section 3 you should have considered a number of alternative ways of deriving feature sets for characters. In this section, you should present the results of using these alternative approaches."
   ]
  }
 ],
 "metadata": {
  "kernelspec": {
   "display_name": "Python 3",
   "language": "python",
   "name": "python3"
  },
  "language_info": {
   "codemirror_mode": {
    "name": "ipython",
    "version": 3
   },
   "file_extension": ".py",
   "mimetype": "text/x-python",
   "name": "python",
   "nbconvert_exporter": "python",
   "pygments_lexer": "ipython3",
   "version": "3.6.4"
  }
 },
 "nbformat": 4,
 "nbformat_minor": 2
}
